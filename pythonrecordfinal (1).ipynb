{
 "cells": [
  {
   "cell_type": "markdown",   
   "id": "5c58391e",
   "metadata": {},
   "source": [
    "### 1. Basic Arithmetic Operations\n",
    "**Question:** Write a Python program that performs basic arithmetic operations like addition, subtraction, multiplication, and division."
   ]
  },
  {
   "cell_type": "code",
   "execution_count": 3,
   "id": "da3cbf6f-228f-4a71-ae80-50c6a5a35f3c",
   "metadata": {},
   "outputs": [
    {
     "name": "stdout",
     "output_type": "stream",
     "text": [
      "\n",
      "Menu:\n",
      "1. Add\n",
      "2. Subtract\n",
      "3. Multiply\n",
      "4. Divide\n",
      "5. Exit\n"
     ]
    },
    {
     "name": "stdout",
     "output_type": "stream",
     "text": [
      "Enter your choice (1/2/3/4/5):  1\n",
      "Enter first number:  20\n",
      "Enter second number:  10\n"
     ]
    },
    {
     "name": "stdout",
     "output_type": "stream",
     "text": [
      "Result: 30.0\n",
      "\n",
      "Menu:\n",
      "1. Add\n",
      "2. Subtract\n",
      "3. Multiply\n",
      "4. Divide\n",
      "5. Exit\n"
     ]
    },
    {
     "name": "stdout",
     "output_type": "stream",
     "text": [
      "Enter your choice (1/2/3/4/5):  2\n",
      "Enter first number:  10\n",
      "Enter second number:  2\n"
     ]
    },
    {
     "name": "stdout",
     "output_type": "stream",
     "text": [
      "Result: 8.0\n",
      "\n",
      "Menu:\n",
      "1. Add\n",
      "2. Subtract\n",
      "3. Multiply\n",
      "4. Divide\n",
      "5. Exit\n"
     ]
    },
    {
     "name": "stdout",
     "output_type": "stream",
     "text": [
      "Enter your choice (1/2/3/4/5):  3\n",
      "Enter first number:  12\n",
      "Enter second number:  1\n"
     ]
    },
    {
     "name": "stdout",
     "output_type": "stream",
     "text": [
      "Result: 12.0\n",
      "\n",
      "Menu:\n",
      "1. Add\n",
      "2. Subtract\n",
      "3. Multiply\n",
      "4. Divide\n",
      "5. Exit\n"
     ]
    },
    {
     "name": "stdout",
     "output_type": "stream",
     "text": [
      "Enter your choice (1/2/3/4/5):  4\n",
      "Enter first number:  10\n",
      "Enter second number:  2\n"
     ]
    },
    {
     "name": "stdout",
     "output_type": "stream",
     "text": [
      "Result: 5.0\n",
      "\n",
      "Menu:\n",
      "1. Add\n",
      "2. Subtract\n",
      "3. Multiply\n",
      "4. Divide\n",
      "5. Exit\n"
     ]
    },
    {
     "name": "stdout",
     "output_type": "stream",
     "text": [
      "Enter your choice (1/2/3/4/5):  5\n"
     ]
    },
    {
     "name": "stdout",
     "output_type": "stream",
     "text": [
      "Exiting program.\n"
     ]
    }
   ],
   "source": [
    "def add(x, y):\n",
    "    return x + y\n",
    "\n",
    "def subtract(x, y):\n",
    "    return x - y\n",
    "\n",
    "def multiply(x, y):\n",
    "    return x * y\n",
    "\n",
    "def divide(x, y):\n",
    "    if y == 0:\n",
    "        return \"Error! Division by zero.\"\n",
    "    else:\n",
    "        return x / y\n",
    "def menu():\n",
    "    while True:\n",
    "        print(\"\\nMenu:\")\n",
    "        print(\"1. Add\")\n",
    "        print(\"2. Subtract\")\n",
    "        print(\"3. Multiply\")\n",
    "        print(\"4. Divide\")\n",
    "        print(\"5. Exit\")\n",
    "        \n",
    "        choice = input(\"Enter your choice (1/2/3/4/5): \")\n",
    "\n",
    "        if choice == '1':\n",
    "            num1 = float(input(\"Enter first number: \"))\n",
    "            num2 = float(input(\"Enter second number: \"))\n",
    "            print(f\"Result: {add(num1, num2)}\")\n",
    "\n",
    "        elif choice == '2':\n",
    "            num1 = float(input(\"Enter first number: \"))\n",
    "            num2 = float(input(\"Enter second number: \"))\n",
    "            print(f\"Result: {subtract(num1, num2)}\")\n",
    "\n",
    "        elif choice == '3':\n",
    "            num1 = float(input(\"Enter first number: \"))\n",
    "            num2 = float(input(\"Enter second number: \"))\n",
    "            print(f\"Result: {multiply(num1, num2)}\")\n",
    "\n",
    "        elif choice == '4':\n",
    "            num1 = float(input(\"Enter first number: \"))\n",
    "            num2 = float(input(\"Enter second number: \"))\n",
    "            print(f\"Result: {divide(num1, num2)}\")\n",
    "\n",
    "        elif choice == '5':\n",
    "            print(\"Exiting program.\")\n",
    "            break\n",
    "\n",
    "        else:\n",
    "            print(\"Invalid choice! Please try again.\")\n",
    "\n",
    "menu()\n"
   ]
  },
  {
   "cell_type": "markdown",
   "id": "8f40f55a",
   "metadata": {},
   "source": [
    "### 2. Even and Odd Number Separation\n",
    "**Question:** Write a Python program to separate even and odd numbers from a given list."
   ]
  },
  {
   "cell_type": "code",
   "execution_count": 4,
   "id": "a9877960-dadf-46e4-9f78-19b67678a94b",
   "metadata": {},
   "outputs": [
    {
     "name": "stdout",
     "output_type": "stream",
     "text": [
      "Even numbers: [2, 4, 6, 8, 10]\n",
      "Odd numbers: [1, 3, 5, 7, 9]\n"
     ]
    }
   ],
   "source": [
    "numbers = [1, 2, 3, 4, 5, 6, 7, 8, 9, 10]\n",
    "even_list = []\n",
    "odd_list = []\n",
    "for num in numbers:\n",
    "    if num % 2 == 0:  \n",
    "        even_list.append(num)\n",
    "    else:  \n",
    "        odd_list.append(num)\n",
    "print(\"Even numbers:\", even_list)\n",
    "print(\"Odd numbers:\", odd_list)\n"
   ]
  },
  {
   "cell_type": "markdown",
   "id": "c67701c6",
   "metadata": {},
   "source": [
    "### 3. Fibonacci Sequence\n",
    "**Question:** Write a Python program to generate the Fibonacci sequence up to 'n' terms."
   ]
  },
  {
   "cell_type": "code",
   "execution_count": 5,
   "id": "0704c104-c11f-4576-b1b0-6f78610ca7bf",
   "metadata": {},
   "outputs": [
    {
     "name": "stdout",
     "output_type": "stream",
     "text": [
      "0\n",
      "1\n",
      "1\n",
      "2\n",
      "3\n"
     ]
    }
   ],
   "source": [
    "def fib(n):\n",
    "    n1=0\n",
    "    print(n1)\n",
    "    n2=1\n",
    "    print(n2)\n",
    "    count=2\n",
    "    while(count<n):\n",
    "        n3=n1+n2\n",
    "        n1=n2\n",
    "        n2=n3\n",
    "        print(n3)\n",
    "        count+=1\n",
    "fib(5)"
   ]
  },
  {
   "cell_type": "markdown",
   "id": "f7c6084c",
   "metadata": {},
   "source": [
    "### 4. Counting Characters in a String\n",
    "**Question:** Write a Python program to count vowels, consonants, and numbers in a given string."
   ]
  },
  {
   "cell_type": "code",
   "execution_count": 6,
   "id": "5ac624bf-4ce0-4ff8-858a-d5da17a8ec11",
   "metadata": {},
   "outputs": [
    {
     "name": "stdout",
     "output_type": "stream",
     "text": [
      "Enter a string:  Maithri01\n"
     ]
    },
    {
     "name": "stdout",
     "output_type": "stream",
     "text": [
      "Vowels: 3\n",
      "Numbers: 2\n",
      "Consonants: 4\n"
     ]
    }
   ],
   "source": [
    "def vnc():\n",
    "    vowels= 0\n",
    "    num= 0\n",
    "    cons= 0\n",
    "    n = input(\"Enter a string: \").lower()\n",
    "    \n",
    "    for i in n:\n",
    "        if i=='a' or i=='i' or i=='o' or i=='e' or i=='u':\n",
    "            vowels += 1\n",
    "        elif i.isdigit():\n",
    "            num += 1\n",
    "        else:  \n",
    "            cons+= 1\n",
    "    \n",
    "    print(\"Vowels:\", vowels)\n",
    "    print(\"Numbers:\", num)\n",
    "    print(\"Consonants:\", cons)\n",
    "\n",
    "vnc()\n"
   ]
  },
  {
   "cell_type": "markdown",
   "id": "86cc4d90",
   "metadata": {},
   "source": [
    "### 5. Palindrome Check\n",
    "**Question:** Write a Python program to check whether a given string is a palindrome."
   ]
  },
  {
   "cell_type": "code",
   "execution_count": 7,
   "id": "d5f5a1f4-cf22-4ecc-ab67-f3b8fd085f1c",
   "metadata": {},
   "outputs": [
    {
     "name": "stdout",
     "output_type": "stream",
     "text": [
      "yes\n"
     ]
    }
   ],
   "source": [
    "def isPalindrome(s):\n",
    "    # Check if the string is equal to its reverse\n",
    "    return s == s[::-1]\n",
    "\n",
    "s = \"navan\"\n",
    "ans = isPalindrome(s)\n",
    "\n",
    "if ans:\n",
    "    print(\"yes\")\n",
    "else:\n",
    "    print(\"no\")\n"
   ]
  },
  {
   "cell_type": "markdown",
   "id": "6401c83d",
   "metadata": {},
   "source": [
    "### 6. Phone Book Program\n",
    "**Question:**  Write a Python program to store and retrieve phone numbers. The program should:\n",
    "\n",
    "Allow the user to enter multiple contacts with their names and 10-digit phone numbers.\n",
    "Validate that the phone number contains exactly 10 digits.\n",
    "Enable the user to search for a contact's phone number by entering the name.\n",
    "Display an appropriate message if the contact is not found."
   ]
  },
  {
   "cell_type": "code",
   "execution_count": 8,
   "id": "425f8673-5b4c-463c-a60f-346f2ae3effd",
   "metadata": {},
   "outputs": [
    {
     "name": "stdout",
     "output_type": "stream",
     "text": [
      "How many entries do you want to add?  2\n",
      "Enter name:  maithri\n",
      "Enter phone number:  902819092\n"
     ]
    },
    {
     "name": "stdout",
     "output_type": "stream",
     "text": [
      "Invalid phone number! It must have exactly 10 digits.\n"
     ]
    },
    {
     "name": "stdout",
     "output_type": "stream",
     "text": [
      "Enter name:  muktha\n",
      "Enter phone number:  8919283901\n",
      "Enter the name to search for the phone number:  muktha\n"
     ]
    },
    {
     "name": "stdout",
     "output_type": "stream",
     "text": [
      "The phone number of muktha is: 8919283901\n"
     ]
    }
   ],
   "source": [
    "def store_phone_numbers():\n",
    "    phone_book = {}\n",
    "    n = int(input(\"How many entries do you want to add? \"))\n",
    "    \n",
    "    for i in range(n):\n",
    "        name = input(\"Enter name: \")\n",
    "        phone = input(\"Enter phone number: \")\n",
    "        \n",
    "       \n",
    "        if len(phone) == 10 and phone.isdigit():\n",
    "            phone_book[name] = phone\n",
    "        else:\n",
    "            print(\"Invalid phone number! It must have exactly 10 digits.\")\n",
    "    \n",
    "    return phone_book\n",
    "def get_phone_number(phone_book):\n",
    "    name = input(\"Enter the name to search for the phone number: \")\n",
    "    if name in phone_book:\n",
    "        print(f\"The phone number of {name} is: {phone_book[name]}\")\n",
    "    else:\n",
    "        print(f\"{name} not found in the phone book.\")\n",
    "phone_book = store_phone_numbers()\n",
    "get_phone_number(phone_book)\n"
   ]
  },
  {
   "cell_type": "markdown",
   "id": "be296421",
   "metadata": {},
   "source": [
    "### 7. String Processing: Reverse and Character Frequency\r\n",
    "**Question:** Write a Python program that takes a sentence as input and performs the following operations:  \r\n",
    "1. **Reverse the sentence character-wise** (including spaces).  \r\n",
    "2. **Count the frequency of each character** (excluding spaces).  \r\n",
    "3. **Display both the reversed sentence and the character frequency dictionary.*es! 😊"
   ]
  },
  {
   "cell_type": "code",
   "execution_count": 1,
   "id": "3f582ba4-6e07-4d12-b1b3-fb30d3c7eb51",
   "metadata": {},
   "outputs": [
    {
     "name": "stdin",
     "output_type": "stream",
     "text": [
      "Enter a sentence:  i am maithri\n"
     ]
    },
    {
     "name": "stdout",
     "output_type": "stream",
     "text": [
      "Reversed character sentence: irhtiam ma i\n",
      "Character frequency: {'i': 3, 'a': 2, 'm': 2, 't': 1, 'h': 1, 'r': 1}\n"
     ]
    }
   ],
   "source": [
    "def process_sentence(sentence):\n",
    "    reversed_sentence =sentence[::-1]  \n",
    "    frequency = {}  \n",
    "    for char in sentence:  \n",
    "        if char != ' ': \n",
    "            frequency[char] = frequency.get(char, 0) + 1 \n",
    "\n",
    "    print(\"Reversed character sentence:\", reversed_sentence)\n",
    "    print(\"Character frequency:\", frequency)\n",
    "sentence = input(\"Enter a sentence: \")\n",
    "process_sentence(sentence)"
   ]
  },
  {
   "cell_type": "markdown",
   "id": "184d4a7d",
   "metadata": {},
   "source": [
    "### 8. **Find Keys with Maximum Value**  \n",
    "\r\n",
    "**Question:** Write a Python program to find all keys in a dictionary that have the highest value. The program should return a list of keys with the maximum value."
   ]
  },
  {
   "cell_type": "code",
   "execution_count": 10,
   "id": "0146a895-834a-444d-990b-0f1062f51188",
   "metadata": {},
   "outputs": [
    {
     "name": "stdout",
     "output_type": "stream",
     "text": [
      "['b', 'c']\n"
     ]
    }
   ],
   "source": [
    "\n",
    "def find_max_keys(dictionary):\n",
    "    max_value = max(dictionary.values())  \n",
    "    max_keys = [key for key, value in dictionary.items() if value == max_value]  \n",
    "    return max_keys\n",
    "\n",
    "\n",
    "my_dict = {'a': 10, 'b': 20, 'c': 20, 'd': 5}\n",
    "print(find_max_keys(my_dict))\n"
   ]
  },
  {
   "cell_type": "markdown",
   "id": "4d377ae2",
   "metadata": {},
   "source": [
    "### 9. Find the Difference Between Two Lists\r\n",
    "**Question:** Write a Python program to find elements that are present in one list but not in the other and return their combined difference."
   ]
  },
  {
   "cell_type": "code",
   "execution_count": 11,
   "id": "cd59f7ed-1e5a-4bf0-aaa5-494550c0398f",
   "metadata": {},
   "outputs": [
    {
     "name": "stdout",
     "output_type": "stream",
     "text": [
      "[1, 2, 3]\n",
      "[6, 7, 8]\n",
      "[1, 2, 3, 6, 7, 8]\n"
     ]
    }
   ],
   "source": [
    "\n",
    "list1 = [1, 2, 3, 4, 5]\n",
    "list2 = [4, 5, 6, 7, 8]\n",
    "difference = [item for item in list1 if item not in list2]\n",
    "difference2= [item for item in list2 if item not in list1]\n",
    "print(difference)\n",
    "print(difference2)\n",
    "diff=difference+difference2\n",
    "print(diff)"
   ]
  },
  {
   "cell_type": "markdown",
   "id": "0542a74e",
   "metadata": {},
   "source": [
    "### 10. Check If Two Strings Are Anagrams\r\n",
    "**Question:** Write a Python program to check whether two given strings are anagrams (contain the same characters in a different order, ignoring case)."
   ]
  },
  {
   "cell_type": "code",
   "execution_count": 12,
   "id": "e6a6f090-b054-4153-b450-3798ad86b89a",
   "metadata": {},
   "outputs": [
    {
     "name": "stdout",
     "output_type": "stream",
     "text": [
      "enter first string anna\n",
      "enter string 2 nana\n"
     ]
    },
    {
     "name": "stdout",
     "output_type": "stream",
     "text": [
      "strings are anagram\n"
     ]
    }
   ],
   "source": [
    "\n",
    "def are_anagram(str1,str2):\n",
    "    return sorted(str1)==sorted(str2)\n",
    "string1=input(\"enter first string\")\n",
    "string2=input(\"enter string 2\")\n",
    "string11=string1.lower()\n",
    "string23=string2.lower()\n",
    "if are_anagram(string11,string23):\n",
    "    print(\"strings are anagram\")\n",
    "else:\n",
    "    print(\"not\")"
   ]
  },
  {
   "cell_type": "markdown",
   "id": "0ba4aa20",
   "metadata": {},
   "source": [
    "### 11. Find Pairs with a Given Sum\r\n",
    "**Question:** Write a Python program to find all unique pairs of numbers in a list that add up to a given target sum."
   ]
  },
  {
   "cell_type": "code",
   "execution_count": 13,
   "id": "736b825f-d358-441e-ae09-82421a86e4ea",
   "metadata": {},
   "outputs": [
    {
     "name": "stdout",
     "output_type": "stream",
     "text": [
      "Pairs that add up to 7 : [(3, 4), (2, 5), (1, 6), (4, 3)]\n"
     ]
    }
   ],
   "source": [
    "\n",
    "def find_pairs_with_sum(nums, target):\n",
    "    pairs = []\n",
    "    seen = set()\n",
    "    for num in nums:\n",
    "        complement = target - num\n",
    "        if complement in seen:\n",
    "            pairs.append((complement, num))\n",
    "        seen.add(num)\n",
    "    return pairs\n",
    "# Sample input\n",
    "num = [1, 2, 3, 4, 5, 6, 3]\n",
    "target = 7\n",
    "# Find and print the result\n",
    "result = find_pairs_with_sum(num, target)\n",
    "print(\"Pairs that add up to\", target, \":\", result)\n"
   ]
  },
  {
   "cell_type": "markdown",
   "id": "12d4da34",
   "metadata": {},
   "source": [
    "### 12. Sort Students by Scores in Descending Order\r\n",
    "**Question:** Write a Python program to take student names and scores as input, store them as tuples in a list, and display the students sorted in descending order of their scores."
   ]
  },
  {
   "cell_type": "code",
   "execution_count": 14,
   "id": "d90dda6c-85ac-42eb-97d4-545b2df2dd5a",
   "metadata": {},
   "outputs": [
    {
     "name": "stdout",
     "output_type": "stream",
     "text": [
      "Enter the number of students:  2\n",
      "Enter student's name:  maithri\n",
      "Enter maithri's score:  100\n",
      "Enter student's name:  preethi\n",
      "Enter preethi's score:  89\n"
     ]
    },
    {
     "name": "stdout",
     "output_type": "stream",
     "text": [
      "\n",
      "Sorted list of students based on scores (descending order):\n",
      "maithri: 100\n",
      "preethi: 89\n"
     ]
    }
   ],
   "source": [
    "\n",
    "n = int(input(\"Enter the number of students: \"))\n",
    "students = []\n",
    "for i in range(n):\n",
    "    name = input(\"Enter student's name: \")\n",
    "    score = int(input(f\"Enter {name}'s score: \"))\n",
    "    students.append((name, score))\n",
    "students.sort(key=lambda x: x[1], reverse=True)\n",
    "print(\"\\nSorted list of students based on scores (descending order):\")\n",
    "for student in students:\n",
    "    print(f\"{student[0]}: {student[1]}\")\n"
   ]
  },
  {
   "cell_type": "markdown",
   "id": "95133c56",
   "metadata": {},
   "source": [
    "### 13. Student Scores Analysis\r\n",
    "**Question:** Write a Python program to calculate the average score, find the highest score, and count how many students scored above the average from a given list of student scores."
   ]
  },
  {
   "cell_type": "code",
   "execution_count": 15,
   "id": "9aa6ac78-05a4-4f95-a98b-1aedc41d6ba0",
   "metadata": {},
   "outputs": [
    {
     "name": "stdout",
     "output_type": "stream",
     "text": [
      "Enter student scores separated by spaces:  89 79 99 67\n"
     ]
    },
    {
     "name": "stdout",
     "output_type": "stream",
     "text": [
      "Average score: 83.5\n",
      "Highest score: 99\n",
      "Number of students who scored above the average: 2\n"
     ]
    }
   ],
   "source": [
    "\n",
    "scores = list(map(int, input(\"Enter student scores separated by spaces: \").split()))\n",
    "average_score = sum(scores) / len(scores)\n",
    "print(\"Average score:\", average_score)\n",
    "highest_score = max(scores)\n",
    "print(\"Highest score:\", highest_score)\n",
    "above_average_count = 0\n",
    "for score in scores:\n",
    "    if score > average_score:\n",
    "        above_average_count += 1\n",
    "print(\"Number of students who scored above the average:\", above_average_count)\n"
   ]
  },
  {
   "cell_type": "markdown",
   "id": "20fec570",
   "metadata": {},
   "source": [
    "### 14. Linear Search in a List\r\n",
    "**Question:** Write a Python program to search for a target number in a list using the **linear search** algorithm and return its index if found, or indicate if it's not present."
   ]
  },
  {
   "cell_type": "code",
   "execution_count": 16,
   "id": "083c96ef-3f0c-4ccf-9126-ed70efba8241",
   "metadata": {},
   "outputs": [
    {
     "name": "stdout",
     "output_type": "stream",
     "text": [
      "Enter numbers separated by spaces:  100 98 99 \n",
      "Enter the number to search:  98\n"
     ]
    },
    {
     "name": "stdout",
     "output_type": "stream",
     "text": [
      "98 is found at index 1.\n"
     ]
    }
   ],
   "source": [
    "numbers = input(\"Enter numbers separated by spaces: \").split()\n",
    "numbers = [int(x) for x in numbers]\n",
    "target = int(input(\"Enter the number to search: \"))\n",
    "def linear_search(numbers, target):\n",
    "    for i in range(len(numbers)):\n",
    "        if numbers[i] == target:\n",
    "            return i\n",
    "    return -1\n",
    "result = linear_search(numbers, target)\n",
    "if result != -1:\n",
    "    print(f\"{target} is found at index {result}.\")\n",
    "else:\n",
    "    print(f\"{target} is not in the list.\")\n"
   ]
  },
  {
   "cell_type": "markdown",
   "id": "f9be9095",
   "metadata": {},
   "source": [
    "### 15. Find the Second Largest Number\r\n",
    "**Question:** Write a Python program to find the second largest number in a list, ensuring that the list contains at least two distinct numbers."
   ]
  },
  {
   "cell_type": "code",
   "execution_count": 17,
   "id": "a25d6770-d20e-46d8-a609-fd454a062eb5",
   "metadata": {},
   "outputs": [
    {
     "name": "stdout",
     "output_type": "stream",
     "text": [
      "The second largest number is: 45\n"
     ]
    }
   ],
   "source": [
    "\n",
    "def find_second_largest(numbers): \n",
    "    if len(numbers) < 2:\n",
    "        return \"List must contain at least two distinct numbers.\"\n",
    "    unique_numbers = list(set(numbers))\n",
    "    if len(unique_numbers) < 2:\n",
    "        return \"List must contain at least two distinct numbers.\"\n",
    "    unique_numbers.sort(reverse=True)\n",
    "    return unique_numbers[1]\n",
    "numbers = [10, 20, 4, 45, 99, 99, 20]\n",
    "second_largest = find_second_largest(numbers)\n",
    "print(\"The second largest number is:\", second_largest)\n"
   ]
  },
  {
   "cell_type": "markdown",
   "id": "0dd59f11",
   "metadata": {},
   "source": [
    "### 16. Find Common Elements Between Two Lists\r\n",
    "**Question:** Write a Python program to find and display the common elements between two lists using sets. If no common elements exist, print an appropriate message."
   ]
  },
  {
   "cell_type": "code",
   "execution_count": 18,
   "id": "5cb8a7a5-a7cf-469c-a5ad-a77b4d146a96",
   "metadata": {},
   "outputs": [
    {
     "name": "stdout",
     "output_type": "stream",
     "text": [
      "Enter the elements of the first list separated by spaces:  12 99 89 0\n",
      "Enter the elements of the second list separated by spaces:  88 77 90 2\n"
     ]
    },
    {
     "name": "stdout",
     "output_type": "stream",
     "text": [
      "No common elements found.\n"
     ]
    }
   ],
   "source": [
    "\n",
    "list1 = list(map(int, input(\"Enter the elements of the first list separated by spaces: \").split()))\n",
    "list2 = list(map(int, input(\"Enter the elements of the second list separated by spaces: \").split()))\n",
    "\n",
    "\n",
    "set1 = set(list1)\n",
    "set2 = set(list2)\n",
    "\n",
    "\n",
    "common_elements = set1.intersection(set2)\n",
    "\n",
    "\n",
    "if common_elements:\n",
    "    print(\"Common elements:\", list(common_elements))\n",
    "else:\n",
    "    print(\"No common elements found.\")\n"
   ]
  },
  {
   "cell_type": "markdown",
   "id": "33ee4c9c",
   "metadata": {},
   "source": [
    "### 17. **Bank Account Management System**  \r\n",
    "**Question:** Write a Python program to implement a simple **Bank Account** class with the following functionalities:  \r\n",
    "1. **Initialize account details** (account holder's name, account number, and initial balance).  \r\n",
    "2. **Deposit money** into the account.  \r\n",
    "3. **Withdraw money**, ensuring sufficient balance.  \r\n",
    "4. **Check the account balance.**  \r\n",
    "5. **Demonstrate the account operations with an example.**"
   ]
  },
  {
   "cell_type": "code",
   "execution_count": 19,
   "id": "ead9a69a-b666-4e25-a705-35c8a758ec54",
   "metadata": {},
   "outputs": [
    {
     "name": "stdout",
     "output_type": "stream",
     "text": [
      "\n",
      "--- Alice's Account ---\n",
      "Balance: ₹5000\n",
      "₹2000 deposited. New balance: ₹7000\n",
      "₹3000 withdrawn. Remaining balance: ₹4000\n",
      "Not enough balance!\n"
     ]
    }
   ],
   "source": [
    "\n",
    "class BankAccount:\n",
    "    def __init__(self, name, account_number, balance=0):\n",
    "        self.name = name\n",
    "        self.account_number = account_number\n",
    "        self.balance = balance\n",
    "\n",
    "    def deposit(self, amount):\n",
    "        self.balance += amount\n",
    "        print(f\"₹{amount} deposited. New balance: ₹{self.balance}\")\n",
    "\n",
    "    def withdraw(self, amount):\n",
    "        if amount <= self.balance:\n",
    "            self.balance -= amount\n",
    "            print(f\"₹{amount} withdrawn. Remaining balance: ₹{self.balance}\")\n",
    "        else:\n",
    "            print(\"Not enough balance!\")\n",
    "\n",
    "    def check_balance(self):\n",
    "        print(f\"Balance: ₹{self.balance}\")\n",
    "\n",
    "\n",
    "account = BankAccount(\"Alice\", \"12345\", 5000)\n",
    "\n",
    "print(\"\\n--- Alice's Account ---\")\n",
    "account.check_balance()\n",
    "account.deposit(2000)\n",
    "account.withdraw(3000)\n",
    "account.withdraw(5000)\n"
   ]
  },
  {
   "cell_type": "markdown",
   "id": "19d17ef7",
   "metadata": {},
   "source": [
    "### 18. Student Grade Calculation System \r\n",
    "**Question:** Write a Python program to create a **Student** class that:  \r\n",
    "1. **Stores a student's name and marks** as a list.  \r\n",
    "2. **Calculates the average marks** of the student.  \r\n",
    "3. **Assigns a grade** based on the average marks using predefined criteria.  \r\n",
    "4. **Demonstrates the functionality** with example students."
   ]
  },
  {
   "cell_type": "code",
   "execution_count": 20,
   "id": "4776d417-2a05-4694-9dba-dc5cb464ffe9",
   "metadata": {},
   "outputs": [
    {
     "name": "stdout",
     "output_type": "stream",
     "text": [
      "--- Alice's Report ---\n",
      "Average Marks: 86.60\n",
      "Grade: B\n",
      "\n",
      "--- Bob's Report ---\n",
      "Average Marks: 54.00\n",
      "Grade: Pass\n"
     ]
    }
   ],
   "source": [
    "\n",
    "class Student:\n",
    "    def __init__(self, name, marks):\n",
    "        self.name = name\n",
    "        self.marks = marks  # A list of marks\n",
    "\n",
    "    def calculate_average(self):\n",
    "        return sum(self.marks) / len(self.marks)\n",
    "\n",
    "    def assign_grade(self):\n",
    "        average = self.calculate_average()\n",
    "        if 90 <= average <= 100:\n",
    "            return \"A+\"\n",
    "        elif 80 <= average < 90:\n",
    "            return \"B\"\n",
    "        elif 70 <= average < 80:\n",
    "            return \"C\"\n",
    "        elif 60 <= average < 70:\n",
    "            return \"D\"\n",
    "        elif average < 40:\n",
    "            return \"Fail\"\n",
    "        else:\n",
    "            return \"Pass\"\n",
    "\n",
    "\n",
    "student1 = Student(\"Alice\", [85, 90, 78, 92, 88])\n",
    "student2 = Student(\"Bob\", [45, 55, 60, 70, 40])\n",
    "\n",
    "print(f\"--- {student1.name}'s Report ---\")\n",
    "average1 = student1.calculate_average()\n",
    "print(f\"Average Marks: {average1:.2f}\")\n",
    "print(f\"Grade: {student1.assign_grade()}\")\n",
    "\n",
    "print(f\"\\n--- {student2.name}'s Report ---\")\n",
    "average2 = student2.calculate_average()\n",
    "print(f\"Average Marks: {average2:.2f}\")\n",
    "print(f\"Grade: {student2.assign_grade()}\")\n",
    "\n"
   ]
  },
  {
   "cell_type": "markdown",
   "id": "75f6b04d",
   "metadata": {},
   "source": [
    "### 19. Vehicle and Car Inheritance System\r\n",
    "**Question:** Write a Python program that demonstrates **inheritance** by creating a **Vehicle** class with attributes `make` and `model`. Then, create a **Car** subclass that extends **Vehicle** by adding a `year` attribute. Implement a method to display the details of both classes and demonstrate it with an example."
   ]
  },
  {
   "cell_type": "code",
   "execution_count": 2,
   "id": "99eb6f8f-5b1b-4658-ac27-374b4d850468",
   "metadata": {},
   "outputs": [
    {
     "name": "stdout",
     "output_type": "stream",
     "text": [
      "Make: Toyota, Model: Corolla\n",
      "Year: 2020\n"
     ]
    }
   ],
   "source": [
    "\n",
    "class Vehicle:\n",
    "    def __init__(self, make, model):\n",
    "        self.make = make\n",
    "        self.model = model\n",
    "\n",
    "    def show_info(self):\n",
    "        print(f\"Make: {self.make}, Model: {self.model}\")\n",
    "\n",
    "\n",
    "class Car(Vehicle):\n",
    "    def __init__(self, make, model, year):\n",
    "        super().__init__(make, model)  # Use parent class constructor\n",
    "        self.year = year\n",
    "\n",
    "    def show_info(self):\n",
    "        super().show_info()  # Call parent method\n",
    "        print(f\"Year: {self.year}\")\n",
    "\n",
    "\n",
    "my_car = Car(\"Toyota\", \"Corolla\", 2020)\n",
    "my_car.show_info()"
   ]
  },
  {
   "cell_type": "markdown",
   "id": "537ec223",
   "metadata": {},
   "source": [
    "### 20.  **Box Class with Multiple Inheritance**  \r\n",
    "**Question:** Write a Python program that demonstrates **multiple inheritance** by creating a `Dimension` class to store `length`, `width`, and `height`, and a `Weight` class to store `weight`. Then, create a `Box` class that inherits from both `Dimension` and `Weight`, and implement a method to display all attributes."
   ]
  },
  {
   "cell_type": "code",
   "execution_count": 22,
   "id": "16679b34-bfcf-4334-b85c-f14ceba6403e",
   "metadata": {},
   "outputs": [
    {
     "name": "stdout",
     "output_type": "stream",
     "text": [
      "Dimensions: Length=10, Width=20, Height=15\n",
      "Weight: 5 kg\n"
     ]
    }
   ],
   "source": [
    "\n",
    "class Dimension:\n",
    "    def __init__(self, length, width, height):\n",
    "        self.length = length\n",
    "        self.width = width\n",
    "        self.height = height\n",
    "\n",
    "    def show(self):\n",
    "        print(f\"Dimensions: Length={self.length}, Width={self.width}, Height={self.height}\")\n",
    "\n",
    "\n",
    "class Weight:\n",
    "    def __init__(self, weight):\n",
    "        self.weight = weight\n",
    "\n",
    "    def show(self):\n",
    "        print(f\"Weight: {self.weight} kg\")\n",
    "\n",
    "\n",
    "class Box(Dimension, Weight):\n",
    "    def __init__(self, length, width, height, weight):\n",
    "        Dimension.__init__(self, length, width, height)\n",
    "        Weight.__init__(self, weight)\n",
    "\n",
    "    def show(self):\n",
    "        Dimension.show(self)\n",
    "        Weight.show(self)\n",
    "\n",
    "\n",
    "box = Box(10, 20, 15, 5)\n",
    "box.show()"
   ]
  },
  {
   "cell_type": "markdown",
   "id": "4916d159",
   "metadata": {},
   "source": [
    "\n",
    "### 21. **Box Class with Multiple Inheritance**  \r\n",
    "**Question:** Write a Python program that demonstrates **multiple inheritance** by creating a `Dimension` class to store `length`, `width`, and `height`, and a `Weight` class to store `weight`. Then, create a `Box` class that inherits from both and includes a method to display all attributes."
   ]
  },
  {
   "cell_type": "code",
   "execution_count": 23,
   "id": "397d4b6c-2442-4186-9dee-956d3a0e7252",
   "metadata": {},
   "outputs": [
    {
     "name": "stdout",
     "output_type": "stream",
     "text": [
      "Dimensions: Length=10, Width=20, Height=15\n",
      "Weight: 5 kg\n"
     ]
    }
   ],
   "source": [
    "\n",
    "class Dimension:\n",
    "    def __init__(self, length, width, height):\n",
    "        self.length = length\n",
    "        self.width = width\n",
    "        self.height = height\n",
    "\n",
    "    def show_dimensions(self):\n",
    "        print(f\"Dimensions: Length={self.length}, Width={self.width}, Height={self.height}\")\n",
    "\n",
    "\n",
    "class Weight:\n",
    "    def __init__(self, weight):\n",
    "        self.weight = weight\n",
    "\n",
    "    def show_weight(self):\n",
    "        print(f\"Weight: {self.weight} kg\")\n",
    "\n",
    "\n",
    "class Box(Dimension, Weight):\n",
    "    def __init__(self, length, width, height, weight):\n",
    "        # Using super() \n",
    "        super().__init__(length, width, height)  \n",
    "        Weight.__init__(self, weight)  \n",
    "\n",
    "    def show_info(self):\n",
    "        self.show_dimensions()\n",
    "        self.show_weight()\n",
    "\n",
    "\n",
    "box = Box(10, 20, 15, 5)\n",
    "box.show_info()"
   ]
  },
  {
   "cell_type": "markdown",
   "id": "07cb0843",
   "metadata": {},
   "source": [
    "### 22. **Shipping Box Class with Inheritance**  \r\n",
    "**Question:** Write a Python program that demonstrates **multilevel inheritance** by creating a `Dimensions` class to store `length`, `width`, and `height`. Then, create a `Box` class that inherits from `Dimensions` and calculates volume. Finally, create a `ShippingBox` class that extends `Box` by adding `weight` and displaying all attributes."
   ]
  },
  {
   "cell_type": "code",
   "execution_count": 24,
   "id": "27dea80c-6e2b-4082-aadc-21577726fa4e",
   "metadata": {},
   "outputs": [
    {
     "name": "stdout",
     "output_type": "stream",
     "text": [
      "Dimensions: Length=10, Width=20, Height=15\n",
      "Volume: 3000 cubic units\n",
      "Weight: 5 kg\n",
      "Total Shipping Weight: 5 kg\n"
     ]
    }
   ],
   "source": [
    "\n",
    "class Dimensions:\n",
    "    def __init__(self, length, width, height):\n",
    "        self.length = length\n",
    "        self.width = width\n",
    "        self.height = height\n",
    "\n",
    "\n",
    "class Box(Dimensions):\n",
    "    def __init__(self, length, width, height):\n",
    "        super().__init__(length, width, height)\n",
    "\n",
    "    def calculate_volume(self):\n",
    "        return self.length * self.width * self.height\n",
    "\n",
    "\n",
    "class ShippingBox(Box):\n",
    "    def __init__(self, length, width, height, weight):\n",
    "        super().__init__(length, width, height)\n",
    "        self.weight = weight\n",
    "\n",
    "    def show_info(self):\n",
    "        print(f\"Dimensions: Length={self.length}, Width={self.width}, Height={self.height}\")\n",
    "        print(f\"Volume: {self.calculate_volume()} cubic units\")\n",
    "        print(f\"Weight: {self.weight} kg\")\n",
    "        print(f\"Total Shipping Weight: {self.weight} kg\")\n",
    "\n",
    "\n",
    "shipping_box = ShippingBox(10, 20, 15, 5)  # Length=10, Width=20, Height=15, Weight=5 kg\n",
    "shipping_box.show_info()"
   ]
  },
  {
   "cell_type": "markdown",
   "id": "2c02e95b",
   "metadata": {},
   "source": [
    "### 23. **Animal Classification Using Inheritance**  \r\n",
    "**Question:** Write a Python program that demonstrates **hierarchical inheritance** by creating an `Animal` class with a common method. Then, create `Mammal`, `Bird`, and `Fish` subclasses, each with unique attributes and behaviors. Implement and display their characteristics using objects of these classes."
   ]
  },
  {
   "cell_type": "code",
   "execution_count": 25,
   "id": "daf547ac-cf0d-4bbc-ada9-711d9cc11334",
   "metadata": {},
   "outputs": [
    {
     "name": "stdout",
     "output_type": "stream",
     "text": [
      "Dog is eating.\n",
      "Dog says Woof.\n",
      "Parrot is eating.\n",
      "Parrot is flying.\n",
      "Goldfish is eating.\n",
      "Goldfish is swimming in freshwater.\n"
     ]
    }
   ],
   "source": [
    "\n",
    "\n",
    "class Animal:\n",
    "    def __init__(self, name):\n",
    "        self.name = name\n",
    "\n",
    "    def eat(self):\n",
    "        print(f\"{self.name} is eating.\")\n",
    "\n",
    "\n",
    "class Mammal(Animal):\n",
    "    def __init__(self, name, sound):\n",
    "        super().__init__(name)\n",
    "        self.sound = sound\n",
    "\n",
    "    def speak(self):\n",
    "        print(f\"{self.name} says {self.sound}.\")\n",
    "\n",
    "\n",
    "class Bird(Animal):\n",
    "    def __init__(self, name, can_fly):\n",
    "        super().__init__(name)\n",
    "        self.can_fly = can_fly\n",
    "\n",
    "    def fly(self):\n",
    "        if self.can_fly:\n",
    "            print(f\"{self.name} is flying.\")\n",
    "        else:\n",
    "            print(f\"{self.name} cannot fly.\")\n",
    "\n",
    "\n",
    "class Fish(Animal):\n",
    "    def __init__(self, name, is_freshwater):\n",
    "        super().__init__(name)\n",
    "        self.is_freshwater = is_freshwater\n",
    "\n",
    "    def swim(self):\n",
    "        if self.is_freshwater:\n",
    "            print(f\"{self.name} is swimming in freshwater.\")\n",
    "        else:\n",
    "            print(f\"{self.name} is swimming in saltwater.\")\n",
    "\n",
    "\n",
    "mammal = Mammal(\"Dog\", \"Woof\")\n",
    "mammal.eat()\n",
    "mammal.speak()\n",
    "\n",
    "bird = Bird(\"Parrot\", True)\n",
    "bird.eat()\n",
    "bird.fly()\n",
    "\n",
    "fish = Fish(\"Goldfish\", True)\n",
    "fish.eat()\n",
    "fish.swim()\n",
    "\n"
   ]
  },
  {
   "cell_type": "markdown",
   "id": "4820c987",
   "metadata": {},
   "source": [
    "### 24. **Custom Exception for Zero Division**  \r\n",
    "**Question:** Write a Python program that defines a **custom exception** for division by zero. Implement a function that divides two numbers and raises this custom exception when an attempt is made to divide by zero. Handle the exception using a `try-except` block."
   ]
  },
  {
   "cell_type": "code",
   "execution_count": 26,
   "id": "13ced4c8-9b1b-43bb-9410-0d8356923fdc",
   "metadata": {},
   "outputs": [
    {
     "name": "stdout",
     "output_type": "stream",
     "text": [
      "Enter the first number:  7\n",
      "Enter the second number:  0\n"
     ]
    },
    {
     "name": "stdout",
     "output_type": "stream",
     "text": [
      "Error: Cannot divide by zero.\n"
     ]
    }
   ],
   "source": [
    "\n",
    "class ZeroDivisionError(Exception):\n",
    "    def __init__(self, message=\"Cannot divide by zero\"):\n",
    "        self.message = message\n",
    "        super().__init__(self.message)\n",
    "\n",
    "\n",
    "def divide_numbers(num1, num2):\n",
    "    if num2 == 0:\n",
    "        raise ZeroDivisionError(\"Cannot divide by zero.\")\n",
    "    return num1 / num2\n",
    "\n",
    "\n",
    "try:\n",
    "    num1 = float(input(\"Enter the first number: \"))\n",
    "    num2 = float(input(\"Enter the second number: \"))\n",
    "    result = divide_numbers(num1, num2)\n",
    "    print(f\"Result: {result}\")\n",
    "except ZeroDivisionError as e:\n",
    "    print(f\"Error: {e}\")\n"
   ]
  },
  {
   "cell_type": "code",
   "execution_count": null,
   "id": "9056a518-5ec0-498f-bd1d-b56a66c0b0c4",
   "metadata": {},
   "outputs": [],
   "source": []
  }
 ],
 "metadata": {
  "kernelspec": {
   "display_name": "Python 3 (ipykernel)",
   "language": "python",
   "name": "python3"
  },
  "language_info": {
   "codemirror_mode": {
    "name": "ipython",
    "version": 3
   },
   "file_extension": ".py",
   "mimetype": "text/x-python",
   "name": "python",
   "nbconvert_exporter": "python",
   "pygments_lexer": "ipython3",
   "version": "3.11.7"
  }
 },
 "nbformat": 4,
 "nbformat_minor": 5
}
